{
 "cells": [
  {
   "cell_type": "code",
   "execution_count": 1,
   "id": "b854d58c",
   "metadata": {},
   "outputs": [],
   "source": [
    "# importing the dependencies\n",
    "import csv\n",
    "import os"
   ]
  },
  {
   "cell_type": "code",
   "execution_count": 2,
   "id": "bf53e51b",
   "metadata": {},
   "outputs": [],
   "source": [
    "# defining the file path\n",
    "csv_path=os.path.join('Resources','budget_data.csv')"
   ]
  },
  {
   "cell_type": "code",
   "execution_count": 3,
   "id": "d3cd8b32",
   "metadata": {},
   "outputs": [
    {
     "name": "stdout",
     "output_type": "stream",
     "text": [
      "<_csv.reader object at 0x000002646DF08C18>\n",
      "86\n",
      "22564198\n",
      "-8311.11\n",
      "1862002\n",
      "-1825558\n"
     ]
    }
   ],
   "source": [
    "# reading the csv file\n",
    "with open(csv_path, newline='') as csvfile:\n",
    "    csv_reader = csv.reader(csvfile, delimiter=',')\n",
    "    print(csv_reader)\n",
    "    csv_header = next(csv_reader)\n",
    "   \n",
    "# Creating the arrays for the analysis\n",
    "    month = []\n",
    "    revenue = []\n",
    "    revenue_change = []\n",
    "    monthly_change = []\n",
    "\n",
    "    # Script to print total number of months\n",
    "    for row in csv_reader:\n",
    "        month.append(row[0])\n",
    "        revenue.append(row[1])\n",
    "    print(len(month))\n",
    "    \n",
    "    # script for finding total_revenue\n",
    "    \n",
    "    # \"map\" function to convert str to int     \n",
    "    revenue_int = map(int,revenue)\n",
    "    total_revenue = (sum(revenue_int))\n",
    "    print(total_revenue)\n",
    "\n",
    "#script for finding Avg Change\n",
    "    i = 0\n",
    "    for i in range(len(revenue) - 1):\n",
    "        profit_loss = int(revenue[i+1]) - int(revenue[i])\n",
    " \n",
    "#script to append profit_loss\n",
    "        revenue_change.append(profit_loss)\n",
    "    Total = sum(revenue_change)\n",
    "#   print(revenue_change)\n",
    "    monthly_change = round(Total / len(revenue_change),2)\n",
    "    print(monthly_change)\n",
    "#   print(Total)\n",
    "    \n",
    "#Script to find Greatest Increase\n",
    "    profit_increase = max(revenue_change)\n",
    "    print(profit_increase)\n",
    "    k = revenue_change.index(profit_increase)\n",
    "    month_increase = month[k+1]\n",
    "    \n",
    "#Script to find Greatest Decrease\n",
    "    profit_decrease = min(revenue_change)\n",
    "    print(profit_decrease)\n",
    "    j = revenue_change.index(profit_decrease)\n",
    "    month_decrease = month[j+1]\n"
   ]
  },
  {
   "cell_type": "code",
   "execution_count": 4,
   "id": "b25e7d91",
   "metadata": {},
   "outputs": [
    {
     "name": "stdout",
     "output_type": "stream",
     "text": [
      "Financial Analysis\n",
      "\n",
      "----------------------------\n",
      "\n",
      "Total months: 86\n",
      "Total: $22564198\n",
      "Average change: $-8311.11\n",
      "Greatest Increase in Profits: Aug-16 ($1862002)\n",
      "Greatest Decrease in Profits: Feb-14 ($-1825558)\n"
     ]
    }
   ],
   "source": [
    "# Print Statements\n",
    "\n",
    "print(f'Financial Analysis'+'\\n')\n",
    "print(f'----------------------------'+'\\n')\n",
    "\n",
    "\n",
    "print(f\"Total months: {str(len(month))}\")\n",
    "print(f\"Total: ${str(total_revenue)}\")\n",
    "print(f\"Average change: ${str(monthly_change)}\")\n",
    "print(f\"Greatest Increase in Profits: {month_increase} (${profit_increase})\")\n",
    "print(f\"Greatest Decrease in Profits: {month_decrease} (${profit_decrease})\")\n",
    "\n"
   ]
  },
  {
   "cell_type": "code",
   "execution_count": 5,
   "id": "f8db4db7",
   "metadata": {},
   "outputs": [],
   "source": [
    "# Store results text in list\n",
    "lines = [(f\"Total months: {str(len(month))}\"),(f\"Total: ${str(total_revenue)}\"),(f\"Average change: ${str(monthly_change)}\"),(f\"Greatest Increase in Profits: {month_increase} (${profit_increase})\"),\n",
    "(f\"Greatest Decrease in Profits: {month_decrease} (${profit_decrease})\")]\n"
   ]
  },
  {
   "cell_type": "code",
   "execution_count": 6,
   "id": "5009ec26",
   "metadata": {},
   "outputs": [],
   "source": [
    "# Navigate to analysis folder and create/overwrite Analysis text file with results list\n",
    "# file_analysis = '../Analysis/Analysis.txt'\n",
    "# with open(file_analysis, 'w') as a:\n",
    "#     for line in lines:\n",
    "#         a.write(line)\n",
    "#         a.write('\\n')"
   ]
  },
  {
   "cell_type": "code",
   "execution_count": null,
   "id": "8c735113",
   "metadata": {},
   "outputs": [],
   "source": []
  }
 ],
 "metadata": {
  "kernelspec": {
   "display_name": "Python 3 (ipykernel)",
   "language": "python",
   "name": "python3"
  },
  "language_info": {
   "codemirror_mode": {
    "name": "ipython",
    "version": 3
   },
   "file_extension": ".py",
   "mimetype": "text/x-python",
   "name": "python",
   "nbconvert_exporter": "python",
   "pygments_lexer": "ipython3",
   "version": "3.7.7"
  },
  "vscode": {
   "interpreter": {
    "hash": "e6b24209d7d3950f78345129dec2849bb9a14e608cb13e6b4d8b88ac32de25dc"
   }
  }
 },
 "nbformat": 4,
 "nbformat_minor": 5
}
